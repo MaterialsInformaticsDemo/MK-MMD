{
 "cells": [
  {
   "cell_type": "code",
   "execution_count": 1,
   "id": "42097e61",
   "metadata": {},
   "outputs": [],
   "source": [
    "# define true function\n",
    "import numpy as np\n",
    "\n",
    "def FMO_formular(Cr, T=673.15, t = 600, DOC = 10):\n",
    "    \"\"\"\n",
    "    Cao B, Yang S, Sun A, Dong Z, Zhang TY. \n",
    "    Domain knowledge-guided interpretive machine learning: \n",
    "    formula discovery for the oxidation behavior of ferritic-martensitic \n",
    "    steels in supercritical water. J Mater Inf 2022;2:4. \n",
    "    http://dx.doi.org/10.20517/jmi.2022.04\n",
    "    \n",
    "    input:\n",
    "    Cr : oxidation chromium equivalent concentration (wt.%), 10.38 <= Cr <= 30.319\n",
    "    Cr(wt.%) = [Cr](wt.%) + 40.3[V](wt.%) + 2.3[Si](wt.%) + 10.7[Ni](wt.%) − 1.5[Mn](wt.%)\n",
    "    T : Absolute temperature (K), 673.15 <= T <= 923.15\n",
    "    t : Exposure time (h), 30 <= t <= 2000\n",
    "    DOC : Dissolved oxygen concentration (ppb), 0 <= DOC <= 8000\n",
    "    \n",
    "    output:\n",
    "    the logarithm of weight gain (mg / dm2)\n",
    "    \"\"\"\n",
    "    # Eq.(6c) in paper\n",
    "    pre_factor = 0.084*(Cr**3/(T-DOC) - np.sqrt(T+DOC)) + 0.98*(Cr-DOC/T) / np.log(Cr+DOC)+8.543\n",
    "    \n",
    "    # Eq.(5a) in paper\n",
    "    Q = 0.084*(Cr**2-Cr+DOC) / np.exp(DOC/T) + 45.09\n",
    "    \n",
    "    # Eq.(5b) in paper\n",
    "    m = 0.323 - 0.061 * np.exp(DOC/T) / (Cr - np.sqrt(Cr) - DOC)\n",
    "    \n",
    "    ln_wg = pre_factor + np.log(DOC+2.17) -  Q * 1000 / 8.314 / T + m*np.log(t)\n",
    "    \n",
    "    return ln_wg"
   ]
  },
  {
   "cell_type": "markdown",
   "id": "e010ee75",
   "metadata": {},
   "source": [
    "# generate data"
   ]
  },
  {
   "cell_type": "code",
   "execution_count": 2,
   "id": "432da0c9",
   "metadata": {},
   "outputs": [],
   "source": [
    "# 20 source domain data\n",
    "\n",
    "import random\n",
    "\n",
    "random.seed(42)  \n",
    "\n",
    "source = []\n",
    "\n",
    "while len(source) < 20:\n",
    "    random_number = random.uniform(16, 18)\n",
    "    if random_number not in source:\n",
    "        formatted_number = round(random_number,2)\n",
    "        source.append(formatted_number)\n",
    "    source.sort()\n"
   ]
  },
  {
   "cell_type": "code",
   "execution_count": 3,
   "id": "8146e00f",
   "metadata": {},
   "outputs": [],
   "source": [
    "# 20 target domain data\n",
    "\n",
    "random.seed(42) \n",
    "\n",
    "target = []\n",
    "\n",
    "while len(target) < 20:\n",
    "    random_number = random.uniform(14, 16)\n",
    "    if random_number not in target:\n",
    "        formatted_number = round(random_number,2)\n",
    "        target.append(formatted_number)\n",
    "\n",
    "        \n",
    "random.shuffle(target)  \n",
    "\n",
    "target_test = target[:10]\n",
    "\n",
    "target_train = target[10:]\n"
   ]
  },
  {
   "cell_type": "code",
   "execution_count": 4,
   "id": "e6c5d031",
   "metadata": {},
   "outputs": [
    {
     "data": {
      "text/plain": [
       "[15.3, 14.44, 15.28, 14.17, 15.09, 14.55, 14.06, 15.62, 15.18, 15.78]"
      ]
     },
     "execution_count": 4,
     "metadata": {},
     "output_type": "execute_result"
    }
   ],
   "source": [
    "target_test"
   ]
  },
  {
   "cell_type": "markdown",
   "id": "74e782ee",
   "metadata": {},
   "source": [
    "# cal labels"
   ]
  },
  {
   "cell_type": "code",
   "execution_count": 5,
   "id": "b25fb31f",
   "metadata": {},
   "outputs": [
    {
     "data": {
      "text/plain": [
       "array([4.28762677, 4.286294  , 4.286294  , 4.28593767, 4.28143797,\n",
       "       4.26893795, 4.26638147, 4.26638147, 4.26572593, 4.25882298,\n",
       "       4.23554565, 4.21990128, 4.21207914, 4.20294762, 4.19240738,\n",
       "       4.19025115, 4.18479209, 4.17130182, 4.1537004 , 4.13406903])"
      ]
     },
     "execution_count": 5,
     "metadata": {},
     "output_type": "execute_result"
    }
   ],
   "source": [
    "# labels of 20 source domain data\n",
    "Ys = FMO_formular(np.array(source))\n",
    "Ys "
   ]
  },
  {
   "cell_type": "code",
   "execution_count": 6,
   "id": "8d9997b0",
   "metadata": {},
   "outputs": [],
   "source": [
    "# labels of 10 target domain training data\n",
    "Yt_train = FMO_formular(np.array(target_train))\n",
    "# labels of 10 target domain test data\n",
    "Yt_test =  FMO_formular(np.array(target_test))"
   ]
  },
  {
   "cell_type": "code",
   "execution_count": 7,
   "id": "699a58b8",
   "metadata": {},
   "outputs": [
    {
     "data": {
      "text/plain": [
       "array([4.24272342, 3.36021514, 3.19273477, 3.36021514, 4.03106003,\n",
       "       4.28734686, 4.2064398 , 4.02360696, 3.99139946, 4.28104791])"
      ]
     },
     "execution_count": 7,
     "metadata": {},
     "output_type": "execute_result"
    }
   ],
   "source": [
    "Yt_train"
   ]
  },
  {
   "cell_type": "code",
   "execution_count": 8,
   "id": "3ec736ec",
   "metadata": {},
   "outputs": [
    {
     "data": {
      "text/plain": [
       "array([4.27749602, 4.02360696, 4.27590592, 3.68779915, 4.25514913,\n",
       "       4.09472442, 3.39613599, 4.29146826, 4.2663516 , 4.29211302])"
      ]
     },
     "execution_count": 8,
     "metadata": {},
     "output_type": "execute_result"
    }
   ],
   "source": [
    "Yt_test"
   ]
  },
  {
   "cell_type": "code",
   "execution_count": 9,
   "id": "d5aa2a55",
   "metadata": {},
   "outputs": [
    {
     "name": "stderr",
     "output_type": "stream",
     "text": [
      "/Users/jacob/miniconda3/lib/python3.9/site-packages/sklearn/utils/validation.py:1143: DataConversionWarning: A column-vector y was passed when a 1d array was expected. Please change the shape of y to (n_samples, ), for example using ravel().\n",
      "  y = column_or_1d(y, warn=True)\n"
     ]
    }
   ],
   "source": [
    "# baseline without transfer\n",
    "from sklearn.svm import SVR\n",
    "from sklearn.metrics import r2_score\n",
    "\n",
    "reg = SVR()\n",
    "pre_y = reg.fit(np.array(target_train).reshape(-1,1), np.array(Yt_train).reshape(-1,1)).predict(np.array(target_test).reshape(-1,1))"
   ]
  },
  {
   "cell_type": "code",
   "execution_count": 10,
   "id": "177243d2",
   "metadata": {},
   "outputs": [
    {
     "data": {
      "text/plain": [
       "array([4.18576581, 3.94809518, 4.1829754 , 3.49824255, 4.15066715,\n",
       "       4.06404803, 3.3412569 , 4.14761249, 4.16565155, 4.07096998])"
      ]
     },
     "execution_count": 10,
     "metadata": {},
     "output_type": "execute_result"
    }
   ],
   "source": [
    "pre_y"
   ]
  },
  {
   "cell_type": "code",
   "execution_count": 12,
   "id": "59c92b8b",
   "metadata": {},
   "outputs": [
    {
     "data": {
      "text/plain": [
       "0.8211324687124604"
      ]
     },
     "execution_count": 12,
     "metadata": {},
     "output_type": "execute_result"
    }
   ],
   "source": [
    "# r2 on test data\n",
    "r2_score(Yt_test,pre_y)"
   ]
  },
  {
   "cell_type": "markdown",
   "id": "0e33bb09",
   "metadata": {},
   "source": [
    "#  transfer with MK-MMD based TCA "
   ]
  },
  {
   "cell_type": "code",
   "execution_count": 91,
   "id": "3e878beb",
   "metadata": {},
   "outputs": [
    {
     "name": "stdout",
     "output_type": "stream",
     "text": [
      "h matrix is calculated\n",
      "matrix Q : [[0.17911529 0.23672828 0.28177309 0.23437824 0.08256993]\n",
      " [0.23672828 0.3182647  0.39136413 0.34225986 0.12444452]\n",
      " [0.28177309 0.39136413 0.51298548 0.4997374  0.19647392]\n",
      " [0.23437824 0.34225986 0.4997374  0.61544772 0.30917875]\n",
      " [0.08256993 0.12444452 0.19647392 0.30917875 0.34279387]]\n",
      "MMD of each kernel :  [0.35359279800077625, 0.44236970571682915, 0.48815609731407994, 0.4420962848559135, 0.2921090477979017]\n",
      "η_k is calculated\n",
      "the optimal weights are found\n",
      "weights of kernels : [[8.15537436e-01]\n",
      " [1.65467106e-06]\n",
      " [3.05824108e-07]\n",
      " [2.69861795e-07]\n",
      " [1.84460333e-01]]\n"
     ]
    },
    {
     "name": "stderr",
     "output_type": "stream",
     "text": [
      "/Users/jacob/miniconda3/lib/python3.9/site-packages/sklearn/utils/validation.py:1143: DataConversionWarning: A column-vector y was passed when a 1d array was expected. Please change the shape of y to (n_samples, ), for example using ravel().\n",
      "  y = column_or_1d(y, warn=True)\n"
     ]
    },
    {
     "data": {
      "text/plain": [
       "0.9330316382066635"
      ]
     },
     "execution_count": 91,
     "metadata": {},
     "output_type": "execute_result"
    }
   ],
   "source": [
    "Xs = np.array(source).reshape(-1,1)\n",
    "Ys = np.array(Ys).reshape(-1,1)\n",
    "Xt = np.array(target_train).reshape(-1,1)\n",
    "Yt = np.array(Yt_train).reshape(-1,1)\n",
    "Tx = np.array(target_test).reshape(-1,1)\n",
    "Ty = np.array(Yt_test).reshape(-1,1)\n",
    "\n",
    "Xtrain = np.concatenate((Xs, Xt))\n",
    "Ytrain = np.concatenate((Ys, Yt))\n",
    "\n",
    "# TCA\n",
    "new_Xtrain, new_Tx = MKMMD_TCA(Xtrain, Tx, dim=2)\n",
    "\n",
    "# reg \n",
    "pre = reg.fit(new_Xtrain,Ytrain).predict(new_Tx)\n",
    "\n",
    "# r2 score\n",
    "r2_score(Ty,pre)"
   ]
  },
  {
   "cell_type": "markdown",
   "id": "9bb158af",
   "metadata": {},
   "source": [
    "---"
   ]
  },
  {
   "cell_type": "code",
   "execution_count": 88,
   "id": "259647ce",
   "metadata": {},
   "outputs": [],
   "source": [
    "import numpy as np\n",
    "import scipy.linalg\n",
    "from sklearn.gaussian_process.kernels import  RBF \n",
    "\n",
    "\"\"\"\n",
    "when trad-off parameter = 0, we can use the weighted summation of each kernel to estimate the MK-MMD based TCA\n",
    "\"\"\"\n",
    "def MKMMD_TCA(TCA_Xs, TCA_Xt,dim = 2):\n",
    "    ns, nt = len(TCA_Xs), len(TCA_Xt)\n",
    "    if dim > (ns + nt):\n",
    "        raise DimensionError('The maximum number of dimensions should be smaller than', (ns + nt))\n",
    "    else:pass\n",
    "    \n",
    "    # call MK-MMD\n",
    "    _, weights,kernel_list = MKMMD().predict(TCA_Xs, TCA_Xt)\n",
    "    print('weights of kernels :', weights)\n",
    "    Xs_new_list = []\n",
    "    Xt_new_list = []\n",
    "    for k in range(len(kernel_list)):\n",
    "        kernel = kernel_list[k]\n",
    "        # formular in paper Domain Adaptation via Transfer Component Analysis\n",
    "        # Eq.(2) \n",
    "        X = np.vstack((TCA_Xs, TCA_Xt))\n",
    "        K = kernel(X)\n",
    "        # cal matrix L \n",
    "        e = np.vstack((1 / ns * np.ones((ns, 1)), -1 / nt * np.ones((nt, 1))))\n",
    "        L = e * e.T\n",
    "        # cal centering matrix H page 202 the last pargraph at left side\n",
    "        n, _ = X.shape\n",
    "        H = np.eye(n) - 1 / n * np.ones((n, n))\n",
    "        # page 202 the last pargraph at right side\n",
    "        matrix = (K @ L @ K + 0.1 * np.eye(n)) @ K @ H @ K.T\n",
    "        # cal eigenvalues : w, eigenvectors :V\n",
    "        w, V = scipy.linalg.eig(matrix)\n",
    "        w, V = w.real, V.real\n",
    "        # peak out the first self.dim components\n",
    "        ind = np.argsort(abs(w))[::-1]\n",
    "        A = V[:, ind[:dim]]\n",
    "        # output the mapped data\n",
    "        Z = K @ A\n",
    "        Xs_new, Xt_new = Z[:ns, :], Z[ns:, :]\n",
    "        Xs_new_list.append(Xs_new)\n",
    "        Xt_new_list.append(Xt_new)\n",
    "    # calculate the weighted summation\n",
    "    res_Xs_new = Xs_new_list[0] * weights[0]\n",
    "    res_Xt_new = Xt_new_list[0] * weights[0]\n",
    "    \n",
    "    for num in range(len(weights)-1):\n",
    "        index = num+1\n",
    "        res_Xs_new += Xs_new_list[index]* weights[index]\n",
    "        res_Xt_new += Xt_new_list[index]* weights[index]\n",
    "    \n",
    "    \n",
    "    return res_Xs_new, res_Xt_new\n",
    "\n",
    "\n",
    "class DimensionError(Exception):\n",
    "    pass"
   ]
  },
  {
   "cell_type": "code",
   "execution_count": 90,
   "id": "9c3e5881",
   "metadata": {},
   "outputs": [],
   "source": [
    "\"\"\"\n",
    "MKMMD implement\n",
    "\"\"\"\n",
    "\n",
    "\n",
    "# multi-kernel maximum mean discrepancy\n",
    "# cao bin, HKUST, China, binjacobcao@gmail.com\n",
    "# free to charge for academic communication\n",
    "\n",
    "import numpy as np\n",
    "from cvxopt import solvers, matrix \n",
    "from sklearn.gaussian_process.kernels import  RBF \n",
    "\n",
    "class MKMMD():\n",
    "    def __init__(self, gamma_list=[2,1.5,1,0.5,0.1], kernel_num = 5):\n",
    "        '''\n",
    "        Our code is designed for educational purposes, \n",
    "        and to make it easier to understand, \n",
    "        we have implemented only the RBF (Radial Basis Function) kernel.\n",
    "        \n",
    "        This case focuses on solving the weights of kernels. \n",
    "        The estimation of length scales is crucial in kernel-based models,\n",
    "        For further details on the method (length scales), please visit the following link: \n",
    "        [https://github.com/MaterialsInformaticsDemo/DAN/blob/main/code/MK_MMD.py].\n",
    "\n",
    "        :param gamma_list: list of length scales for rbf kernels\n",
    "        :param kernel_num: number of kernels in MK_MMD\n",
    "        '''\n",
    "        if len(gamma_list) != kernel_num: \n",
    "            print('please assign specific length scales for each rbf kernel')\n",
    "        self.kernel_num = kernel_num\n",
    "        kernel_list = []\n",
    "        for i in range(kernel_num):\n",
    "            kernel_list.append(RBF(gamma_list[i],\"fixed\"))\n",
    "        self.kernel_list = kernel_list\n",
    "\n",
    "    def predict(self, Xs, Xt,) :\n",
    "        '''\n",
    "        :param Xs: ns * m_feature, source domain data \n",
    "        :param Xt: nt * m_feature, target domain data\n",
    "\n",
    "        return :\n",
    "        the result of MK_MMD & weights of kernels \n",
    "        '''\n",
    "        # cal weights for each rbf kernel\n",
    "        # two rows above section 2.2 Empirical estimate of the MMD, asymptotic distribution, and test\n",
    "        h_matrix = [] # 5 * 5 \n",
    "        for i in range(self.kernel_num):\n",
    "            _, h_k_vector = funs(Xs, Xt, self.kernel_list[i], MMD = False, h_k_vector = True)\n",
    "            h_matrix.append(h_k_vector)\n",
    "        h_matrix = np.vstack(h_matrix)\n",
    "        print('h matrix is calculated')\n",
    "\n",
    "        # cal the covariance matrix of h_matrix\n",
    "        # Eq.(7)\n",
    "        Q_k = np.cov(h_matrix)\n",
    "        print('matrix Q :',Q_k)\n",
    "        # cal the weights of kernels, Eq.(11)\n",
    "        # vector η_k, Eq.(2)\n",
    "        η_k = []\n",
    "        for k in range(self.kernel_num):\n",
    "            MMD, _ = funs(Xs, Xt, self.kernel_list[k], MMD = True, h_k_vector = False)\n",
    "            η_k.append(MMD)\n",
    "        print('MMD of each kernel : ',η_k)\n",
    "        print('η_k is calculated')\n",
    "\n",
    "        # solve the standard quadratic programming problem \n",
    "        # see : https://github.com/Bin-Cao/KMMTransferRegressor/blob/main/KMMTR/KMM.py\n",
    "        P = 2 * matrix(Q_k + 1e-5 * np.eye(self.kernel_num)) # λm = 1e-5 \n",
    "        # q = - η_k ， maximum η_k * beta in QB\n",
    "        q = matrix(-np.array(η_k).reshape(-1,1))\n",
    "        G = matrix(-np.eye(self.kernel_num))\n",
    "        # the summation of the beta is 1, Eq.(3), let's D = 1\n",
    "        A = matrix(np.ones((1,self.kernel_num)))\n",
    "        b=matrix(1.)\n",
    "        h=matrix(np.zeros((self.kernel_num,1)))\n",
    "        # P is 5 * 5\n",
    "        # q is 5 * 1\n",
    "        # G is 5 * 5\n",
    "        # A is 1 * 5\n",
    "        # b = 1, h = 5*1\n",
    "        solvers.options['show_progress'] = False\n",
    "        sol = solvers.qp(P,q,G,h,A,b)\n",
    "        beta = sol['x']\n",
    "        print('the optimal weights are found')\n",
    "        MK_MMD = np.array(η_k) @ np.array(beta)\n",
    "        return MK_MMD, np.array(beta),self.kernel_list\n",
    "        \n",
    "def funs(Xs, Xt, kernel, MMD = True, h_k_vector = False):\n",
    "    if MMD == True:\n",
    "        # cal MMD for one rbf kernel\n",
    "        # Eq.(1) in paper\n",
    "        dim = np.array(Xs).ndim\n",
    "        Xs = np.array(Xs).reshape(-1,dim)\n",
    "        Xt = np.array(Xt).reshape(-1,dim)\n",
    "        EXX_= kernel(Xs,Xs)\n",
    "        EYY_= kernel(Xt,Xt)\n",
    "        EYX_= kernel(Xt,Xs)\n",
    "        EXY_= kernel(Xs,Xt)\n",
    "        MMD = np.array(EXX_).mean() + np.array(EYY_).mean() - np.array(EYX_).mean() - np.array(EXY_).mean()\n",
    "    else: \n",
    "        MMD = None\n",
    "        pass\n",
    "\n",
    "    if h_k_vector == True:\n",
    "        # cal vector h_k(x,x',y,y'), contains m**2*n**2 terms\n",
    "        # between Eq.(1) and Eq.(2)\n",
    "        # k(x, x') is the element of matrix EXX_\n",
    "        # k(y, y') is the element of matrix EYY_\n",
    "        # k(x, y') and k(x', y) are the element of matrix EXY_\n",
    "        ns, nt = len(Xs), len(Xt)\n",
    "        combin_ns = generate_combinations(ns)\n",
    "        combin_nt = generate_combinations(nt)\n",
    "        h_k_vector = []\n",
    "        for x in range(len(combin_ns)):\n",
    "            for y in range(len(combin_nt)):\n",
    "                S_x = np.array(Xs[combin_ns[x][0]]).reshape(-1,1) # x\n",
    "                S_x_ =  np.array(Xs[combin_ns[x][1]]).reshape(-1,1) # x'\n",
    "                T_x =  np.array(Xt[combin_nt[y][0]]).reshape(-1,1) # y\n",
    "                T_x_ =  np.array(Xt[combin_nt[y][1]]).reshape(-1,1) # y'\n",
    "                h_k = kernel(S_x,S_x_) + kernel(T_x,T_x_) - kernel(S_x,T_x_) - kernel(S_x_,T_x)\n",
    "                h_k_vector.append(h_k[0][0])\n",
    "        h_k_vector = np.array(h_k_vector)\n",
    "    else: \n",
    "        h_k_vector = None\n",
    "        pass\n",
    "    return MMD, h_k_vector\n",
    "\n",
    "def generate_combinations(n):\n",
    "    # Cn^2\n",
    "    combinations = []\n",
    "    for i in range(n):\n",
    "        for j in range(i, n):\n",
    "            combinations.append((i, j))\n",
    "    return combinations\n"
   ]
  },
  {
   "cell_type": "code",
   "execution_count": null,
   "id": "183687b3",
   "metadata": {},
   "outputs": [],
   "source": []
  }
 ],
 "metadata": {
  "kernelspec": {
   "display_name": "Python 3 (ipykernel)",
   "language": "python",
   "name": "python3"
  },
  "language_info": {
   "codemirror_mode": {
    "name": "ipython",
    "version": 3
   },
   "file_extension": ".py",
   "mimetype": "text/x-python",
   "name": "python",
   "nbconvert_exporter": "python",
   "pygments_lexer": "ipython3",
   "version": "3.9.12"
  }
 },
 "nbformat": 4,
 "nbformat_minor": 5
}
